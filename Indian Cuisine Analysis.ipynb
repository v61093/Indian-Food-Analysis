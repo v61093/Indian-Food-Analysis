{
 "cells": [
  {
   "cell_type": "markdown",
   "metadata": {},
   "source": [
    "# Indian Cuisine Analysis\n",
    " \n",
    "## Content\n",
    "Indian cuisine consists of a variety of regional and traditional cuisines native to the Indian subcontinent. Given the diversity in soil, climate, culture, ethnic groups, and occupations, these cuisines vary substantially and use locally available spices, herbs, vegetables, and fruits. Indian food is also heavily influenced by religion, in particular Hinduism, cultural choices and traditions.\n",
    "\n",
    "This dataset consists of information about various Indian dishes, their ingredients, their place of origin, etc."
   ]
  },
  {
   "cell_type": "code",
   "execution_count": 1,
   "metadata": {},
   "outputs": [],
   "source": [
    "import pandas as pd\n",
    "import numpy as np\n",
    "import matplotlib.pyplot as plt\n",
    "%matplotlib inline\n",
    "import seaborn as sns"
   ]
  },
  {
   "cell_type": "code",
   "execution_count": 2,
   "metadata": {},
   "outputs": [],
   "source": [
    "# Import the dataset\n",
    "indianfood = pd.read_csv(\"indian_food.csv\")"
   ]
  },
  {
   "cell_type": "markdown",
   "metadata": {},
   "source": [
    "## Column Description\n",
    "* **name** : name of the dish\n",
    "\n",
    "* **ingredients** : main ingredients used\n",
    "\n",
    "* **diet** : type of diet - either vegetarian or non vegetarian\n",
    "\n",
    "* **prep_time** : preparation time\n",
    "\n",
    "* **cook_time** : cooking time\n",
    "\n",
    "* **flavor_profile** : flavor profile includes whether the dish is spicy, sweet, bitter, etc\n",
    "\n",
    "* **course** : course of meal - starter, main course, dessert, etc\n",
    "\n",
    "* **state** : state where the dish is famous or is originated\n",
    "\n",
    "* **region** : region where the state belongs\n",
    "\n",
    "Presence of -1 in any of the columns indicates NaN value."
   ]
  },
  {
   "cell_type": "code",
   "execution_count": 3,
   "metadata": {},
   "outputs": [
    {
     "data": {
      "text/html": [
       "<div>\n",
       "<style scoped>\n",
       "    .dataframe tbody tr th:only-of-type {\n",
       "        vertical-align: middle;\n",
       "    }\n",
       "\n",
       "    .dataframe tbody tr th {\n",
       "        vertical-align: top;\n",
       "    }\n",
       "\n",
       "    .dataframe thead th {\n",
       "        text-align: right;\n",
       "    }\n",
       "</style>\n",
       "<table border=\"1\" class=\"dataframe\">\n",
       "  <thead>\n",
       "    <tr style=\"text-align: right;\">\n",
       "      <th></th>\n",
       "      <th>name</th>\n",
       "      <th>ingredients</th>\n",
       "      <th>diet</th>\n",
       "      <th>prep_time</th>\n",
       "      <th>cook_time</th>\n",
       "      <th>flavor_profile</th>\n",
       "      <th>course</th>\n",
       "      <th>state</th>\n",
       "      <th>region</th>\n",
       "    </tr>\n",
       "  </thead>\n",
       "  <tbody>\n",
       "    <tr>\n",
       "      <th>0</th>\n",
       "      <td>Balu shahi</td>\n",
       "      <td>Maida flour, yogurt, oil, sugar</td>\n",
       "      <td>vegetarian</td>\n",
       "      <td>45</td>\n",
       "      <td>25</td>\n",
       "      <td>sweet</td>\n",
       "      <td>dessert</td>\n",
       "      <td>West Bengal</td>\n",
       "      <td>East</td>\n",
       "    </tr>\n",
       "    <tr>\n",
       "      <th>1</th>\n",
       "      <td>Boondi</td>\n",
       "      <td>Gram flour, ghee, sugar</td>\n",
       "      <td>vegetarian</td>\n",
       "      <td>80</td>\n",
       "      <td>30</td>\n",
       "      <td>sweet</td>\n",
       "      <td>dessert</td>\n",
       "      <td>Rajasthan</td>\n",
       "      <td>West</td>\n",
       "    </tr>\n",
       "    <tr>\n",
       "      <th>2</th>\n",
       "      <td>Gajar ka halwa</td>\n",
       "      <td>Carrots, milk, sugar, ghee, cashews, raisins</td>\n",
       "      <td>vegetarian</td>\n",
       "      <td>15</td>\n",
       "      <td>60</td>\n",
       "      <td>sweet</td>\n",
       "      <td>dessert</td>\n",
       "      <td>Punjab</td>\n",
       "      <td>North</td>\n",
       "    </tr>\n",
       "    <tr>\n",
       "      <th>3</th>\n",
       "      <td>Ghevar</td>\n",
       "      <td>Flour, ghee, kewra, milk, clarified butter, su...</td>\n",
       "      <td>vegetarian</td>\n",
       "      <td>15</td>\n",
       "      <td>30</td>\n",
       "      <td>sweet</td>\n",
       "      <td>dessert</td>\n",
       "      <td>Rajasthan</td>\n",
       "      <td>West</td>\n",
       "    </tr>\n",
       "    <tr>\n",
       "      <th>4</th>\n",
       "      <td>Gulab jamun</td>\n",
       "      <td>Milk powder, plain flour, baking powder, ghee,...</td>\n",
       "      <td>vegetarian</td>\n",
       "      <td>15</td>\n",
       "      <td>40</td>\n",
       "      <td>sweet</td>\n",
       "      <td>dessert</td>\n",
       "      <td>West Bengal</td>\n",
       "      <td>East</td>\n",
       "    </tr>\n",
       "  </tbody>\n",
       "</table>\n",
       "</div>"
      ],
      "text/plain": [
       "             name                                        ingredients  \\\n",
       "0      Balu shahi                    Maida flour, yogurt, oil, sugar   \n",
       "1          Boondi                            Gram flour, ghee, sugar   \n",
       "2  Gajar ka halwa       Carrots, milk, sugar, ghee, cashews, raisins   \n",
       "3          Ghevar  Flour, ghee, kewra, milk, clarified butter, su...   \n",
       "4     Gulab jamun  Milk powder, plain flour, baking powder, ghee,...   \n",
       "\n",
       "         diet  prep_time  cook_time flavor_profile   course        state  \\\n",
       "0  vegetarian         45         25          sweet  dessert  West Bengal   \n",
       "1  vegetarian         80         30          sweet  dessert    Rajasthan   \n",
       "2  vegetarian         15         60          sweet  dessert       Punjab   \n",
       "3  vegetarian         15         30          sweet  dessert    Rajasthan   \n",
       "4  vegetarian         15         40          sweet  dessert  West Bengal   \n",
       "\n",
       "  region  \n",
       "0   East  \n",
       "1   West  \n",
       "2  North  \n",
       "3   West  \n",
       "4   East  "
      ]
     },
     "execution_count": 3,
     "metadata": {},
     "output_type": "execute_result"
    }
   ],
   "source": [
    "indianfood.head()"
   ]
  },
  {
   "cell_type": "code",
   "execution_count": 4,
   "metadata": {},
   "outputs": [
    {
     "name": "stdout",
     "output_type": "stream",
     "text": [
      "<class 'pandas.core.frame.DataFrame'>\n",
      "RangeIndex: 255 entries, 0 to 254\n",
      "Data columns (total 9 columns):\n",
      " #   Column          Non-Null Count  Dtype \n",
      "---  ------          --------------  ----- \n",
      " 0   name            255 non-null    object\n",
      " 1   ingredients     255 non-null    object\n",
      " 2   diet            255 non-null    object\n",
      " 3   prep_time       255 non-null    int64 \n",
      " 4   cook_time       255 non-null    int64 \n",
      " 5   flavor_profile  255 non-null    object\n",
      " 6   course          255 non-null    object\n",
      " 7   state           255 non-null    object\n",
      " 8   region          254 non-null    object\n",
      "dtypes: int64(2), object(7)\n",
      "memory usage: 18.1+ KB\n"
     ]
    }
   ],
   "source": [
    "indianfood.info()"
   ]
  },
  {
   "cell_type": "code",
   "execution_count": 5,
   "metadata": {},
   "outputs": [
    {
     "data": {
      "text/plain": [
       "(255, 9)"
      ]
     },
     "execution_count": 5,
     "metadata": {},
     "output_type": "execute_result"
    }
   ],
   "source": [
    "indianfood.shape"
   ]
  },
  {
   "cell_type": "code",
   "execution_count": 6,
   "metadata": {},
   "outputs": [
    {
     "data": {
      "text/html": [
       "<div>\n",
       "<style scoped>\n",
       "    .dataframe tbody tr th:only-of-type {\n",
       "        vertical-align: middle;\n",
       "    }\n",
       "\n",
       "    .dataframe tbody tr th {\n",
       "        vertical-align: top;\n",
       "    }\n",
       "\n",
       "    .dataframe thead th {\n",
       "        text-align: right;\n",
       "    }\n",
       "</style>\n",
       "<table border=\"1\" class=\"dataframe\">\n",
       "  <thead>\n",
       "    <tr style=\"text-align: right;\">\n",
       "      <th></th>\n",
       "      <th>prep_time</th>\n",
       "      <th>cook_time</th>\n",
       "    </tr>\n",
       "  </thead>\n",
       "  <tbody>\n",
       "    <tr>\n",
       "      <th>count</th>\n",
       "      <td>255.000000</td>\n",
       "      <td>255.000000</td>\n",
       "    </tr>\n",
       "    <tr>\n",
       "      <th>mean</th>\n",
       "      <td>31.105882</td>\n",
       "      <td>34.529412</td>\n",
       "    </tr>\n",
       "    <tr>\n",
       "      <th>std</th>\n",
       "      <td>72.554409</td>\n",
       "      <td>48.265650</td>\n",
       "    </tr>\n",
       "    <tr>\n",
       "      <th>min</th>\n",
       "      <td>-1.000000</td>\n",
       "      <td>-1.000000</td>\n",
       "    </tr>\n",
       "    <tr>\n",
       "      <th>25%</th>\n",
       "      <td>10.000000</td>\n",
       "      <td>20.000000</td>\n",
       "    </tr>\n",
       "    <tr>\n",
       "      <th>50%</th>\n",
       "      <td>10.000000</td>\n",
       "      <td>30.000000</td>\n",
       "    </tr>\n",
       "    <tr>\n",
       "      <th>75%</th>\n",
       "      <td>20.000000</td>\n",
       "      <td>40.000000</td>\n",
       "    </tr>\n",
       "    <tr>\n",
       "      <th>max</th>\n",
       "      <td>500.000000</td>\n",
       "      <td>720.000000</td>\n",
       "    </tr>\n",
       "  </tbody>\n",
       "</table>\n",
       "</div>"
      ],
      "text/plain": [
       "        prep_time   cook_time\n",
       "count  255.000000  255.000000\n",
       "mean    31.105882   34.529412\n",
       "std     72.554409   48.265650\n",
       "min     -1.000000   -1.000000\n",
       "25%     10.000000   20.000000\n",
       "50%     10.000000   30.000000\n",
       "75%     20.000000   40.000000\n",
       "max    500.000000  720.000000"
      ]
     },
     "execution_count": 6,
     "metadata": {},
     "output_type": "execute_result"
    }
   ],
   "source": [
    "indianfood.describe()"
   ]
  },
  {
   "cell_type": "code",
   "execution_count": 7,
   "metadata": {},
   "outputs": [
    {
     "data": {
      "text/plain": [
       "name              0\n",
       "ingredients       0\n",
       "diet              0\n",
       "prep_time         0\n",
       "cook_time         0\n",
       "flavor_profile    0\n",
       "course            0\n",
       "state             0\n",
       "region            1\n",
       "dtype: int64"
      ]
     },
     "execution_count": 7,
     "metadata": {},
     "output_type": "execute_result"
    }
   ],
   "source": [
    "# Missing values count in the dataset\n",
    "indianfood.isna().sum()"
   ]
  },
  {
   "cell_type": "code",
   "execution_count": 8,
   "metadata": {},
   "outputs": [
    {
     "data": {
      "text/plain": [
       "(254, 9)"
      ]
     },
     "execution_count": 8,
     "metadata": {},
     "output_type": "execute_result"
    }
   ],
   "source": [
    "indianfood = indianfood.dropna()\n",
    "indianfood.shape"
   ]
  },
  {
   "cell_type": "code",
   "execution_count": 9,
   "metadata": {
    "scrolled": true
   },
   "outputs": [
    {
     "data": {
      "text/plain": [
       "Text(0.5, 1.0, 'Regional count of dishes')"
      ]
     },
     "execution_count": 9,
     "metadata": {},
     "output_type": "execute_result"
    },
    {
     "data": {
      "image/png": "[encoded data removed]",
      "text/plain": [
       "<Figure size 432x288 with 1 Axes>"
      ]
     },
     "metadata": {
      "needs_background": "light"
     },
     "output_type": "display_data"
    }
   ],
   "source": [
    "indianfood['region'].value_counts().plot(kind='bar')\n",
    "plt.title(\"Regional count of dishes\")"
   ]
  },
  {
   "cell_type": "code",
   "execution_count": 10,
   "metadata": {},
   "outputs": [
    {
     "ename": "NameError",
     "evalue": "name 'Plt' is not defined",
     "output_type": "error",
     "traceback": [
      "\u001b[1;31m---------------------------------------------------------------------------\u001b[0m",
      "\u001b[1;31mNameError\u001b[0m                                 Traceback (most recent call last)",
      "\u001b[1;32m<ipython-input-10-4ebced884a32>\u001b[0m in \u001b[0;36m<module>\u001b[1;34m\u001b[0m\n\u001b[0;32m      1\u001b[0m \u001b[0mindianfood\u001b[0m\u001b[1;33m[\u001b[0m\u001b[1;34m'state'\u001b[0m\u001b[1;33m]\u001b[0m\u001b[1;33m.\u001b[0m\u001b[0mvalue_counts\u001b[0m\u001b[1;33m(\u001b[0m\u001b[1;33m)\u001b[0m\u001b[1;33m.\u001b[0m\u001b[0mplot\u001b[0m\u001b[1;33m(\u001b[0m\u001b[0mkind\u001b[0m\u001b[1;33m=\u001b[0m\u001b[1;34m\"barh\"\u001b[0m\u001b[1;33m,\u001b[0m \u001b[0mfigsize\u001b[0m \u001b[1;33m=\u001b[0m \u001b[1;33m(\u001b[0m\u001b[1;36m6\u001b[0m\u001b[1;33m,\u001b[0m\u001b[1;36m8\u001b[0m\u001b[1;33m)\u001b[0m\u001b[1;33m)\u001b[0m\u001b[1;33m\u001b[0m\u001b[1;33m\u001b[0m\u001b[0m\n\u001b[1;32m----> 2\u001b[1;33m \u001b[0mPlt\u001b[0m\u001b[1;33m.\u001b[0m\u001b[0mtitle\u001b[0m\u001b[1;33m(\u001b[0m\u001b[1;34m\"Statewise count of dishes\"\u001b[0m\u001b[1;33m)\u001b[0m\u001b[1;33m\u001b[0m\u001b[1;33m\u001b[0m\u001b[0m\n\u001b[0m",
      "\u001b[1;31mNameError\u001b[0m: name 'Plt' is not defined"
     ]
    },
    {
     "data": {
      "image/png": "[encoded data removed]",
      "text/plain": [
       "<Figure size 432x576 with 1 Axes>"
      ]
     },
     "metadata": {
      "needs_background": "light"
     },
     "output_type": "display_data"
    }
   ],
   "source": [
    "indianfood['state'].value_counts().plot(kind=\"barh\", figsize = (6,8))\n",
    "Plt.title(\"Statewise count of dishes\")"
   ]
  },
  {
   "cell_type": "code",
   "execution_count": 11,
   "metadata": {},
   "outputs": [
    {
     "data": {
      "text/plain": [
       "Text(0.5, 1.0, 'Flavors count')"
      ]
     },
     "execution_count": 11,
     "metadata": {},
     "output_type": "execute_result"
    },
    {
     "data": {
      "image/png": "[encoded data removed]",
      "text/plain": [
       "<Figure size 432x288 with 1 Axes>"
      ]
     },
     "metadata": {
      "needs_background": "light"
     },
     "output_type": "display_data"
    }
   ],
   "source": [
    "indianfood.flavor_profile.value_counts().plot(kind = \"bar\")\n",
    "plt.title(\"Flavors count\")"
   ]
  },
  {
   "cell_type": "markdown",
   "metadata": {},
   "source": [
    "### Veg/ Non-Veg Diet Percent"
   ]
  },
  {
   "cell_type": "code",
   "execution_count": 12,
   "metadata": {},
   "outputs": [
    {
     "data": {
      "text/plain": [
       "Text(0.5, 1.0, 'Veg/ Non-Veg Diet Percent')"
      ]
     },
     "execution_count": 12,
     "metadata": {},
     "output_type": "execute_result"
    },
    {
     "data": {
      "image/png": "[encoded data removed]",
      "text/plain": [
       "<Figure size 432x288 with 1 Axes>"
      ]
     },
     "metadata": {},
     "output_type": "display_data"
    }
   ],
   "source": [
    "indianfood.diet.value_counts().plot(kind = 'pie' , autopct = '%0.2f%%' , radius = 1.2)\n",
    "plt.title(\"Veg/ Non-Veg Diet Percent\")"
   ]
  },
  {
   "cell_type": "code",
   "execution_count": 13,
   "metadata": {},
   "outputs": [
    {
     "data": {
      "text/plain": [
       "<matplotlib.axes._subplots.AxesSubplot at 0x26ab43d19d0>"
      ]
     },
     "execution_count": 13,
     "metadata": {},
     "output_type": "execute_result"
    },
    {
     "data": {
      "image/png": "[encoded data removed]",
      "text/plain": [
       "<Figure size 432x288 with 1 Axes>"
      ]
     },
     "metadata": {
      "needs_background": "light"
     },
     "output_type": "display_data"
    }
   ],
   "source": [
    "indianfood.course.value_counts().plot(kind = 'bar')"
   ]
  },
  {
   "cell_type": "code",
   "execution_count": 14,
   "metadata": {},
   "outputs": [
    {
     "data": {
      "text/plain": [
       "<matplotlib.axes._subplots.AxesSubplot at 0x26ab441e340>"
      ]
     },
     "execution_count": 14,
     "metadata": {},
     "output_type": "execute_result"
    },
    {
     "data": {
      "image/png": "[encoded data removed]",
      "text/plain": [
       "<Figure size 432x288 with 1 Axes>"
      ]
     },
     "metadata": {
      "needs_background": "light"
     },
     "output_type": "display_data"
    }
   ],
   "source": [
    "indianfood.region.value_counts().plot()"
   ]
  },
  {
   "cell_type": "code",
   "execution_count": 15,
   "metadata": {},
   "outputs": [
    {
     "data": {
      "text/html": [
       "<div>\n",
       "<style scoped>\n",
       "    .dataframe tbody tr th:only-of-type {\n",
       "        vertical-align: middle;\n",
       "    }\n",
       "\n",
       "    .dataframe tbody tr th {\n",
       "        vertical-align: top;\n",
       "    }\n",
       "\n",
       "    .dataframe thead th {\n",
       "        text-align: right;\n",
       "    }\n",
       "</style>\n",
       "<table border=\"1\" class=\"dataframe\">\n",
       "  <thead>\n",
       "    <tr style=\"text-align: right;\">\n",
       "      <th>course</th>\n",
       "      <th>dessert</th>\n",
       "      <th>main course</th>\n",
       "      <th>snack</th>\n",
       "      <th>starter</th>\n",
       "    </tr>\n",
       "    <tr>\n",
       "      <th>region</th>\n",
       "      <th></th>\n",
       "      <th></th>\n",
       "      <th></th>\n",
       "      <th></th>\n",
       "    </tr>\n",
       "  </thead>\n",
       "  <tbody>\n",
       "    <tr>\n",
       "      <th>-1</th>\n",
       "      <td>5.0</td>\n",
       "      <td>4.0</td>\n",
       "      <td>4.0</td>\n",
       "      <td>NaN</td>\n",
       "    </tr>\n",
       "    <tr>\n",
       "      <th>Central</th>\n",
       "      <td>1.0</td>\n",
       "      <td>1.0</td>\n",
       "      <td>1.0</td>\n",
       "      <td>NaN</td>\n",
       "    </tr>\n",
       "    <tr>\n",
       "      <th>East</th>\n",
       "      <td>21.0</td>\n",
       "      <td>10.0</td>\n",
       "      <td>NaN</td>\n",
       "      <td>NaN</td>\n",
       "    </tr>\n",
       "    <tr>\n",
       "      <th>North</th>\n",
       "      <td>9.0</td>\n",
       "      <td>37.0</td>\n",
       "      <td>1.0</td>\n",
       "      <td>2.0</td>\n",
       "    </tr>\n",
       "    <tr>\n",
       "      <th>North East</th>\n",
       "      <td>7.0</td>\n",
       "      <td>18.0</td>\n",
       "      <td>NaN</td>\n",
       "      <td>NaN</td>\n",
       "    </tr>\n",
       "    <tr>\n",
       "      <th>South</th>\n",
       "      <td>18.0</td>\n",
       "      <td>31.0</td>\n",
       "      <td>10.0</td>\n",
       "      <td>NaN</td>\n",
       "    </tr>\n",
       "    <tr>\n",
       "      <th>West</th>\n",
       "      <td>23.0</td>\n",
       "      <td>28.0</td>\n",
       "      <td>23.0</td>\n",
       "      <td>NaN</td>\n",
       "    </tr>\n",
       "  </tbody>\n",
       "</table>\n",
       "</div>"
      ],
      "text/plain": [
       "course      dessert  main course  snack  starter\n",
       "region                                          \n",
       "-1              5.0          4.0    4.0      NaN\n",
       "Central         1.0          1.0    1.0      NaN\n",
       "East           21.0         10.0    NaN      NaN\n",
       "North           9.0         37.0    1.0      2.0\n",
       "North East      7.0         18.0    NaN      NaN\n",
       "South          18.0         31.0   10.0      NaN\n",
       "West           23.0         28.0   23.0      NaN"
      ]
     },
     "execution_count": 15,
     "metadata": {},
     "output_type": "execute_result"
    }
   ],
   "source": [
    "piv_tab = indianfood.pivot_table(values='name' , index = ['region'] , columns = \"course\" , aggfunc = 'count')\n",
    "piv_tab"
   ]
  },
  {
   "cell_type": "code",
   "execution_count": 38,
   "metadata": {},
   "outputs": [
    {
     "data": {
      "text/plain": [
       "Text(0.5, 1.0, 'Flavor profile')"
      ]
     },
     "execution_count": 38,
     "metadata": {},
     "output_type": "execute_result"
    },
    {
     "data": {
      "image/png": "[encoded data removed]",
      "text/plain": [
       "<Figure size 432x288 with 1 Axes>"
      ]
     },
     "metadata": {
      "needs_background": "light"
     },
     "output_type": "display_data"
    }
   ],
   "source": [
    "sns.countplot(x=indianfood['flavor_profile'])\n",
    "plt.title(\"Flavor profile\")"
   ]
  },
  {
   "cell_type": "code",
   "execution_count": 16,
   "metadata": {},
   "outputs": [
    {
     "data": {
      "text/plain": [
       "Text(0.5, 1.0, 'Region vs course')"
      ]
     },
     "execution_count": 16,
     "metadata": {},
     "output_type": "execute_result"
    },
    {
     "data": {
      "image/png": "[encoded data removed]",
      "text/plain": [
       "<Figure size 432x288 with 1 Axes>"
      ]
     },
     "metadata": {
      "needs_background": "light"
     },
     "output_type": "display_data"
    }
   ],
   "source": [
    "piv_tab.plot(kind =\"bar\")\n",
    "plt.title('Region vs course')"
   ]
  },
  {
   "cell_type": "code",
   "execution_count": 17,
   "metadata": {},
   "outputs": [
    {
     "data": {
      "text/plain": [
       "spicy     133\n",
       "sweet      87\n",
       "-1         29\n",
       "bitter      4\n",
       "sour        1\n",
       "Name: flavor_profile, dtype: int64"
      ]
     },
     "execution_count": 17,
     "metadata": {},
     "output_type": "execute_result"
    }
   ],
   "source": [
    "indianfood.flavor_profile.value_counts()"
   ]
  },
  {
   "cell_type": "code",
   "execution_count": 18,
   "metadata": {},
   "outputs": [],
   "source": [
    "region_course = indianfood.pivot_table(values = 'name' , \n",
    "                       index = ['region'],\n",
    "                       columns = 'flavor_profile',\n",
    "                       aggfunc = 'count')"
   ]
  },
  {
   "cell_type": "code",
   "execution_count": 19,
   "metadata": {},
   "outputs": [
    {
     "data": {
      "text/plain": [
       "Text(0.5, 1.0, 'Region vs Flavor-profile')"
      ]
     },
     "execution_count": 19,
     "metadata": {},
     "output_type": "execute_result"
    },
    {
     "data": {
      "image/png": "[encoded data removed]",
      "text/plain": [
       "<Figure size 432x288 with 1 Axes>"
      ]
     },
     "metadata": {
      "needs_background": "light"
     },
     "output_type": "display_data"
    }
   ],
   "source": [
    "region_course.plot(kind = 'bar')\n",
    "plt.title(\"Region vs Flavor-profile\")"
   ]
  },
  {
   "cell_type": "code",
   "execution_count": 20,
   "metadata": {},
   "outputs": [
    {
     "data": {
      "text/plain": [
       "Text(0.5, 1.0, 'Number of courses count')"
      ]
     },
     "execution_count": 20,
     "metadata": {},
     "output_type": "execute_result"
    },
    {
     "data": {
      "image/png": "[encoded data removed]",
      "text/plain": [
       "<Figure size 432x288 with 1 Axes>"
      ]
     },
     "metadata": {
      "needs_background": "light"
     },
     "output_type": "display_data"
    }
   ],
   "source": [
    "sns.countplot(x=indianfood['course'])\n",
    "plt.title(\"Number of courses count\")"
   ]
  },
  {
   "cell_type": "code",
   "execution_count": 21,
   "metadata": {},
   "outputs": [
    {
     "data": {
      "text/plain": [
       "Text(0.5, 1.0, 'Regional variety count')"
      ]
     },
     "execution_count": 21,
     "metadata": {},
     "output_type": "execute_result"
    },
    {
     "data": {
      "image/png": "[encoded data removed]",
      "text/plain": [
       "<Figure size 432x288 with 1 Axes>"
      ]
     },
     "metadata": {
      "needs_background": "light"
     },
     "output_type": "display_data"
    }
   ],
   "source": [
    "sns.countplot(x = indianfood.region)\n",
    "plt.title('Regional variety count')"
   ]
  },
  {
   "cell_type": "code",
   "execution_count": 37,
   "metadata": {},
   "outputs": [
    {
     "data": {
      "text/plain": [
       "Text(0.5, 1.0, 'Count of dishes per state')"
      ]
     },
     "execution_count": 37,
     "metadata": {},
     "output_type": "execute_result"
    },
    {
     "data": {
      "image/png": "[encoded data removed]",
      "text/plain": [
       "<Figure size 432x288 with 1 Axes>"
      ]
     },
     "metadata": {
      "needs_background": "light"
     },
     "output_type": "display_data"
    }
   ],
   "source": [
    "sns.countplot(y=indianfood['state'] , )\n",
    "plt.title(\"Count of dishes per state\")"
   ]
  },
  {
   "cell_type": "code",
   "execution_count": 25,
   "metadata": {},
   "outputs": [
    {
     "data": {
      "text/html": [
       "<div>\n",
       "<style scoped>\n",
       "    .dataframe tbody tr th:only-of-type {\n",
       "        vertical-align: middle;\n",
       "    }\n",
       "\n",
       "    .dataframe tbody tr th {\n",
       "        vertical-align: top;\n",
       "    }\n",
       "\n",
       "    .dataframe thead th {\n",
       "        text-align: right;\n",
       "    }\n",
       "</style>\n",
       "<table border=\"1\" class=\"dataframe\">\n",
       "  <thead>\n",
       "    <tr style=\"text-align: right;\">\n",
       "      <th></th>\n",
       "      <th>name</th>\n",
       "      <th>ingredients</th>\n",
       "      <th>diet</th>\n",
       "      <th>prep_time</th>\n",
       "      <th>cook_time</th>\n",
       "      <th>flavor_profile</th>\n",
       "      <th>course</th>\n",
       "      <th>state</th>\n",
       "      <th>region</th>\n",
       "    </tr>\n",
       "  </thead>\n",
       "  <tbody>\n",
       "    <tr>\n",
       "      <th>0</th>\n",
       "      <td>Balu shahi</td>\n",
       "      <td>Maida flour, yogurt, oil, sugar</td>\n",
       "      <td>vegetarian</td>\n",
       "      <td>45</td>\n",
       "      <td>25</td>\n",
       "      <td>sweet</td>\n",
       "      <td>dessert</td>\n",
       "      <td>West Bengal</td>\n",
       "      <td>East</td>\n",
       "    </tr>\n",
       "    <tr>\n",
       "      <th>1</th>\n",
       "      <td>Gulab jamun</td>\n",
       "      <td>Milk powder, plain flour, baking powder, ghee,...</td>\n",
       "      <td>vegetarian</td>\n",
       "      <td>15</td>\n",
       "      <td>40</td>\n",
       "      <td>sweet</td>\n",
       "      <td>dessert</td>\n",
       "      <td>West Bengal</td>\n",
       "      <td>East</td>\n",
       "    </tr>\n",
       "    <tr>\n",
       "      <th>2</th>\n",
       "      <td>Imarti</td>\n",
       "      <td>Sugar syrup, lentil flour</td>\n",
       "      <td>vegetarian</td>\n",
       "      <td>10</td>\n",
       "      <td>50</td>\n",
       "      <td>sweet</td>\n",
       "      <td>dessert</td>\n",
       "      <td>West Bengal</td>\n",
       "      <td>East</td>\n",
       "    </tr>\n",
       "    <tr>\n",
       "      <th>3</th>\n",
       "      <td>Kalakand</td>\n",
       "      <td>Milk, cottage cheese, sugar</td>\n",
       "      <td>vegetarian</td>\n",
       "      <td>20</td>\n",
       "      <td>30</td>\n",
       "      <td>sweet</td>\n",
       "      <td>dessert</td>\n",
       "      <td>West Bengal</td>\n",
       "      <td>East</td>\n",
       "    </tr>\n",
       "    <tr>\n",
       "      <th>4</th>\n",
       "      <td>Cham cham</td>\n",
       "      <td>Flour, cream, sugar, saffron, lemon juice, coc...</td>\n",
       "      <td>vegetarian</td>\n",
       "      <td>40</td>\n",
       "      <td>60</td>\n",
       "      <td>sweet</td>\n",
       "      <td>dessert</td>\n",
       "      <td>West Bengal</td>\n",
       "      <td>East</td>\n",
       "    </tr>\n",
       "  </tbody>\n",
       "</table>\n",
       "</div>"
      ],
      "text/plain": [
       "          name                                        ingredients        diet  \\\n",
       "0   Balu shahi                    Maida flour, yogurt, oil, sugar  vegetarian   \n",
       "1  Gulab jamun  Milk powder, plain flour, baking powder, ghee,...  vegetarian   \n",
       "2       Imarti                          Sugar syrup, lentil flour  vegetarian   \n",
       "3     Kalakand                        Milk, cottage cheese, sugar  vegetarian   \n",
       "4    Cham cham  Flour, cream, sugar, saffron, lemon juice, coc...  vegetarian   \n",
       "\n",
       "   prep_time  cook_time flavor_profile   course        state region  \n",
       "0         45         25          sweet  dessert  West Bengal   East  \n",
       "1         15         40          sweet  dessert  West Bengal   East  \n",
       "2         10         50          sweet  dessert  West Bengal   East  \n",
       "3         20         30          sweet  dessert  West Bengal   East  \n",
       "4         40         60          sweet  dessert  West Bengal   East  "
      ]
     },
     "execution_count": 25,
     "metadata": {},
     "output_type": "execute_result"
    }
   ],
   "source": [
    "statelist = indianfood[indianfood['state']=='West Bengal'].reset_index(drop=True)\n",
    "statelist.head()"
   ]
  },
  {
   "cell_type": "markdown",
   "metadata": {},
   "source": [
    "### Dishes which has one of the ingredients as Ghee"
   ]
  },
  {
   "cell_type": "code",
   "execution_count": 26,
   "metadata": {},
   "outputs": [
    {
     "data": {
      "text/plain": [
       "1             Boondi\n",
       "2     Gajar ka halwa\n",
       "3             Ghevar\n",
       "4        Gulab jamun\n",
       "7         Kaju katli\n",
       "10             Laddu\n",
       "12         Nankhatai\n",
       "16            Sheera\n",
       "18       Sohan halwa\n",
       "19       Sohan papdi\n",
       "20     Chhena jalebi\n",
       "25          Ledikeni\n",
       "27           Malapua\n",
       "28          Mihidana\n",
       "30            Pantua\n",
       "36         Adhirasam\n",
       "37           Ariselu\n",
       "38      Bandar laddu\n",
       "42           Gavvalu\n",
       "45        Mysore pak\n",
       "46    Obbattu holige\n",
       "49            Pongal\n",
       "50      Pootharekulu\n",
       "61       Shankarpali\n",
       "63        Sutar feni\n",
       "Name: name, dtype: object"
      ]
     },
     "execution_count": 26,
     "metadata": {},
     "output_type": "execute_result"
    }
   ],
   "source": [
    "indianfood.name[indianfood.ingredients.str.contains('ghee')]"
   ]
  },
  {
   "cell_type": "markdown",
   "metadata": {},
   "source": [
    "### Dishes which consumes maximum time to make"
   ]
  },
  {
   "cell_type": "code",
   "execution_count": 30,
   "metadata": {},
   "outputs": [],
   "source": [
    "indianfood['total_time']  = indianfood.prep_time + indianfood.cook_time"
   ]
  },
  {
   "cell_type": "code",
   "execution_count": 31,
   "metadata": {},
   "outputs": [
    {
     "data": {
      "text/html": [
       "<div>\n",
       "<style scoped>\n",
       "    .dataframe tbody tr th:only-of-type {\n",
       "        vertical-align: middle;\n",
       "    }\n",
       "\n",
       "    .dataframe tbody tr th {\n",
       "        vertical-align: top;\n",
       "    }\n",
       "\n",
       "    .dataframe thead th {\n",
       "        text-align: right;\n",
       "    }\n",
       "</style>\n",
       "<table border=\"1\" class=\"dataframe\">\n",
       "  <thead>\n",
       "    <tr style=\"text-align: right;\">\n",
       "      <th></th>\n",
       "      <th>name</th>\n",
       "      <th>ingredients</th>\n",
       "      <th>diet</th>\n",
       "      <th>prep_time</th>\n",
       "      <th>cook_time</th>\n",
       "      <th>flavor_profile</th>\n",
       "      <th>course</th>\n",
       "      <th>state</th>\n",
       "      <th>region</th>\n",
       "      <th>total_time</th>\n",
       "    </tr>\n",
       "  </thead>\n",
       "  <tbody>\n",
       "    <tr>\n",
       "      <th>62</th>\n",
       "      <td>Shrikhand</td>\n",
       "      <td>Curd, sugar, saffron, cardamom</td>\n",
       "      <td>vegetarian</td>\n",
       "      <td>10</td>\n",
       "      <td>720</td>\n",
       "      <td>sweet</td>\n",
       "      <td>dessert</td>\n",
       "      <td>Maharashtra</td>\n",
       "      <td>West</td>\n",
       "      <td>730</td>\n",
       "    </tr>\n",
       "    <tr>\n",
       "      <th>114</th>\n",
       "      <td>Pindi chana</td>\n",
       "      <td>Fennel, tea bags, tomato, kasuri methi, cinnamon</td>\n",
       "      <td>vegetarian</td>\n",
       "      <td>500</td>\n",
       "      <td>120</td>\n",
       "      <td>spicy</td>\n",
       "      <td>main course</td>\n",
       "      <td>Punjab</td>\n",
       "      <td>North</td>\n",
       "      <td>620</td>\n",
       "    </tr>\n",
       "    <tr>\n",
       "      <th>155</th>\n",
       "      <td>Puttu</td>\n",
       "      <td>Brown rice flour, sugar, grated coconut</td>\n",
       "      <td>vegetarian</td>\n",
       "      <td>495</td>\n",
       "      <td>40</td>\n",
       "      <td>-1</td>\n",
       "      <td>main course</td>\n",
       "      <td>Kerala</td>\n",
       "      <td>South</td>\n",
       "      <td>535</td>\n",
       "    </tr>\n",
       "    <tr>\n",
       "      <th>29</th>\n",
       "      <td>Misti doi</td>\n",
       "      <td>Milk, jaggery</td>\n",
       "      <td>vegetarian</td>\n",
       "      <td>480</td>\n",
       "      <td>30</td>\n",
       "      <td>sweet</td>\n",
       "      <td>dessert</td>\n",
       "      <td>West Bengal</td>\n",
       "      <td>East</td>\n",
       "      <td>510</td>\n",
       "    </tr>\n",
       "    <tr>\n",
       "      <th>130</th>\n",
       "      <td>Idli</td>\n",
       "      <td>Split urad dal, urad dal, idli rice, thick poh...</td>\n",
       "      <td>vegetarian</td>\n",
       "      <td>360</td>\n",
       "      <td>90</td>\n",
       "      <td>spicy</td>\n",
       "      <td>snack</td>\n",
       "      <td>-1</td>\n",
       "      <td>South</td>\n",
       "      <td>450</td>\n",
       "    </tr>\n",
       "    <tr>\n",
       "      <th>144</th>\n",
       "      <td>Masala Dosa</td>\n",
       "      <td>Chana dal, urad dal, potatoes, idli rice, thic...</td>\n",
       "      <td>vegetarian</td>\n",
       "      <td>360</td>\n",
       "      <td>90</td>\n",
       "      <td>spicy</td>\n",
       "      <td>snack</td>\n",
       "      <td>-1</td>\n",
       "      <td>South</td>\n",
       "      <td>450</td>\n",
       "    </tr>\n",
       "    <tr>\n",
       "      <th>128</th>\n",
       "      <td>Dosa</td>\n",
       "      <td>Chana dal, urad dal, whole urad dal, blend ric...</td>\n",
       "      <td>vegetarian</td>\n",
       "      <td>360</td>\n",
       "      <td>90</td>\n",
       "      <td>spicy</td>\n",
       "      <td>snack</td>\n",
       "      <td>-1</td>\n",
       "      <td>South</td>\n",
       "      <td>450</td>\n",
       "    </tr>\n",
       "    <tr>\n",
       "      <th>48</th>\n",
       "      <td>Poornalu</td>\n",
       "      <td>Chana dal, jaggery</td>\n",
       "      <td>vegetarian</td>\n",
       "      <td>240</td>\n",
       "      <td>60</td>\n",
       "      <td>sweet</td>\n",
       "      <td>dessert</td>\n",
       "      <td>Andhra Pradesh</td>\n",
       "      <td>South</td>\n",
       "      <td>300</td>\n",
       "    </tr>\n",
       "    <tr>\n",
       "      <th>66</th>\n",
       "      <td>Chak Hao Kheer</td>\n",
       "      <td>Rice, milk, sugar, cardamom</td>\n",
       "      <td>vegetarian</td>\n",
       "      <td>240</td>\n",
       "      <td>45</td>\n",
       "      <td>sweet</td>\n",
       "      <td>dessert</td>\n",
       "      <td>Manipur</td>\n",
       "      <td>North East</td>\n",
       "      <td>285</td>\n",
       "    </tr>\n",
       "    <tr>\n",
       "      <th>122</th>\n",
       "      <td>Tandoori Chicken</td>\n",
       "      <td>Greek yogurt, garam masala, kasuri methi, mari...</td>\n",
       "      <td>non vegetarian</td>\n",
       "      <td>240</td>\n",
       "      <td>30</td>\n",
       "      <td>spicy</td>\n",
       "      <td>main course</td>\n",
       "      <td>Punjab</td>\n",
       "      <td>North</td>\n",
       "      <td>270</td>\n",
       "    </tr>\n",
       "  </tbody>\n",
       "</table>\n",
       "</div>"
      ],
      "text/plain": [
       "                 name                                        ingredients  \\\n",
       "62          Shrikhand                     Curd, sugar, saffron, cardamom   \n",
       "114       Pindi chana   Fennel, tea bags, tomato, kasuri methi, cinnamon   \n",
       "155             Puttu            Brown rice flour, sugar, grated coconut   \n",
       "29          Misti doi                                      Milk, jaggery   \n",
       "130              Idli  Split urad dal, urad dal, idli rice, thick poh...   \n",
       "144       Masala Dosa  Chana dal, urad dal, potatoes, idli rice, thic...   \n",
       "128              Dosa  Chana dal, urad dal, whole urad dal, blend ric...   \n",
       "48           Poornalu                                 Chana dal, jaggery   \n",
       "66     Chak Hao Kheer                        Rice, milk, sugar, cardamom   \n",
       "122  Tandoori Chicken  Greek yogurt, garam masala, kasuri methi, mari...   \n",
       "\n",
       "               diet  prep_time  cook_time flavor_profile       course  \\\n",
       "62       vegetarian         10        720          sweet      dessert   \n",
       "114      vegetarian        500        120          spicy  main course   \n",
       "155      vegetarian        495         40             -1  main course   \n",
       "29       vegetarian        480         30          sweet      dessert   \n",
       "130      vegetarian        360         90          spicy        snack   \n",
       "144      vegetarian        360         90          spicy        snack   \n",
       "128      vegetarian        360         90          spicy        snack   \n",
       "48       vegetarian        240         60          sweet      dessert   \n",
       "66       vegetarian        240         45          sweet      dessert   \n",
       "122  non vegetarian        240         30          spicy  main course   \n",
       "\n",
       "              state      region  total_time  \n",
       "62      Maharashtra        West         730  \n",
       "114          Punjab       North         620  \n",
       "155          Kerala       South         535  \n",
       "29      West Bengal        East         510  \n",
       "130              -1       South         450  \n",
       "144              -1       South         450  \n",
       "128              -1       South         450  \n",
       "48   Andhra Pradesh       South         300  \n",
       "66          Manipur  North East         285  \n",
       "122          Punjab       North         270  "
      ]
     },
     "execution_count": 31,
     "metadata": {},
     "output_type": "execute_result"
    }
   ],
   "source": [
    "indianfood.sort_values(by = 'total_time' , ascending=False).head(10)"
   ]
  },
  {
   "cell_type": "markdown",
   "metadata": {},
   "source": [
    "### Dishes which has maximum ingredients used: "
   ]
  },
  {
   "cell_type": "code",
   "execution_count": 33,
   "metadata": {},
   "outputs": [
    {
     "data": {
      "text/html": [
       "<div>\n",
       "<style scoped>\n",
       "    .dataframe tbody tr th:only-of-type {\n",
       "        vertical-align: middle;\n",
       "    }\n",
       "\n",
       "    .dataframe tbody tr th {\n",
       "        vertical-align: top;\n",
       "    }\n",
       "\n",
       "    .dataframe thead th {\n",
       "        text-align: right;\n",
       "    }\n",
       "</style>\n",
       "<table border=\"1\" class=\"dataframe\">\n",
       "  <thead>\n",
       "    <tr style=\"text-align: right;\">\n",
       "      <th></th>\n",
       "      <th>0</th>\n",
       "      <th>1</th>\n",
       "      <th>2</th>\n",
       "      <th>3</th>\n",
       "      <th>4</th>\n",
       "      <th>5</th>\n",
       "      <th>6</th>\n",
       "      <th>7</th>\n",
       "      <th>8</th>\n",
       "      <th>9</th>\n",
       "    </tr>\n",
       "  </thead>\n",
       "  <tbody>\n",
       "    <tr>\n",
       "      <th>0</th>\n",
       "      <td>Maida flour</td>\n",
       "      <td>yogurt</td>\n",
       "      <td>oil</td>\n",
       "      <td>sugar</td>\n",
       "      <td>None</td>\n",
       "      <td>None</td>\n",
       "      <td>None</td>\n",
       "      <td>None</td>\n",
       "      <td>None</td>\n",
       "      <td>None</td>\n",
       "    </tr>\n",
       "    <tr>\n",
       "      <th>1</th>\n",
       "      <td>Gram flour</td>\n",
       "      <td>ghee</td>\n",
       "      <td>sugar</td>\n",
       "      <td>None</td>\n",
       "      <td>None</td>\n",
       "      <td>None</td>\n",
       "      <td>None</td>\n",
       "      <td>None</td>\n",
       "      <td>None</td>\n",
       "      <td>None</td>\n",
       "    </tr>\n",
       "    <tr>\n",
       "      <th>2</th>\n",
       "      <td>Carrots</td>\n",
       "      <td>milk</td>\n",
       "      <td>sugar</td>\n",
       "      <td>ghee</td>\n",
       "      <td>cashews</td>\n",
       "      <td>raisins</td>\n",
       "      <td>None</td>\n",
       "      <td>None</td>\n",
       "      <td>None</td>\n",
       "      <td>None</td>\n",
       "    </tr>\n",
       "    <tr>\n",
       "      <th>3</th>\n",
       "      <td>Flour</td>\n",
       "      <td>ghee</td>\n",
       "      <td>kewra</td>\n",
       "      <td>milk</td>\n",
       "      <td>clarified butter</td>\n",
       "      <td>sugar</td>\n",
       "      <td>almonds</td>\n",
       "      <td>pistachio</td>\n",
       "      <td>saffron</td>\n",
       "      <td>green cardamom</td>\n",
       "    </tr>\n",
       "    <tr>\n",
       "      <th>4</th>\n",
       "      <td>Milk powder</td>\n",
       "      <td>plain flour</td>\n",
       "      <td>baking powder</td>\n",
       "      <td>ghee</td>\n",
       "      <td>milk</td>\n",
       "      <td>sugar</td>\n",
       "      <td>water</td>\n",
       "      <td>rose water</td>\n",
       "      <td>None</td>\n",
       "      <td>None</td>\n",
       "    </tr>\n",
       "  </tbody>\n",
       "</table>\n",
       "</div>"
      ],
      "text/plain": [
       "             0             1               2       3                  4  \\\n",
       "0  Maida flour        yogurt             oil   sugar               None   \n",
       "1   Gram flour          ghee           sugar    None               None   \n",
       "2      Carrots          milk           sugar    ghee            cashews   \n",
       "3        Flour          ghee           kewra    milk   clarified butter   \n",
       "4  Milk powder   plain flour   baking powder    ghee               milk   \n",
       "\n",
       "          5         6            7         8                9  \n",
       "0      None      None         None      None             None  \n",
       "1      None      None         None      None             None  \n",
       "2   raisins      None         None      None             None  \n",
       "3     sugar   almonds    pistachio   saffron   green cardamom  \n",
       "4     sugar     water   rose water      None             None  "
      ]
     },
     "execution_count": 33,
     "metadata": {},
     "output_type": "execute_result"
    }
   ],
   "source": [
    "my_list = pd.DataFrame((indianfood.ingredients.str.split(pat=',' , expand = True)))\n",
    "my_list.head()"
   ]
  },
  {
   "cell_type": "code",
   "execution_count": 34,
   "metadata": {},
   "outputs": [
    {
     "data": {
      "text/html": [
       "<div>\n",
       "<style scoped>\n",
       "    .dataframe tbody tr th:only-of-type {\n",
       "        vertical-align: middle;\n",
       "    }\n",
       "\n",
       "    .dataframe tbody tr th {\n",
       "        vertical-align: top;\n",
       "    }\n",
       "\n",
       "    .dataframe thead th {\n",
       "        text-align: right;\n",
       "    }\n",
       "</style>\n",
       "<table border=\"1\" class=\"dataframe\">\n",
       "  <thead>\n",
       "    <tr style=\"text-align: right;\">\n",
       "      <th></th>\n",
       "      <th>0</th>\n",
       "      <th>1</th>\n",
       "      <th>2</th>\n",
       "      <th>3</th>\n",
       "      <th>4</th>\n",
       "      <th>5</th>\n",
       "      <th>6</th>\n",
       "      <th>7</th>\n",
       "      <th>8</th>\n",
       "      <th>9</th>\n",
       "    </tr>\n",
       "  </thead>\n",
       "  <tbody>\n",
       "    <tr>\n",
       "      <th>3</th>\n",
       "      <td>Flour</td>\n",
       "      <td>ghee</td>\n",
       "      <td>kewra</td>\n",
       "      <td>milk</td>\n",
       "      <td>clarified butter</td>\n",
       "      <td>sugar</td>\n",
       "      <td>almonds</td>\n",
       "      <td>pistachio</td>\n",
       "      <td>saffron</td>\n",
       "      <td>green cardamom</td>\n",
       "    </tr>\n",
       "  </tbody>\n",
       "</table>\n",
       "</div>"
      ],
      "text/plain": [
       "       0      1       2      3                  4       5         6  \\\n",
       "3  Flour   ghee   kewra   milk   clarified butter   sugar   almonds   \n",
       "\n",
       "            7         8                9  \n",
       "3   pistachio   saffron   green cardamom  "
      ]
     },
     "execution_count": 34,
     "metadata": {},
     "output_type": "execute_result"
    }
   ],
   "source": [
    "my_list = my_list.dropna()\n",
    "my_list"
   ]
  },
  {
   "cell_type": "markdown",
   "metadata": {},
   "source": [
    "Hence we can see that there is only one item which uses 9 ingridients i.e., `Ghevar`"
   ]
  },
  {
   "cell_type": "markdown",
   "metadata": {},
   "source": [
    "### Count of veg/non-veg dishes count by states"
   ]
  },
  {
   "cell_type": "code",
   "execution_count": 35,
   "metadata": {},
   "outputs": [
    {
     "data": {
      "text/html": [
       "<div>\n",
       "<style scoped>\n",
       "    .dataframe tbody tr th:only-of-type {\n",
       "        vertical-align: middle;\n",
       "    }\n",
       "\n",
       "    .dataframe tbody tr th {\n",
       "        vertical-align: top;\n",
       "    }\n",
       "\n",
       "    .dataframe thead th {\n",
       "        text-align: right;\n",
       "    }\n",
       "</style>\n",
       "<table border=\"1\" class=\"dataframe\">\n",
       "  <thead>\n",
       "    <tr style=\"text-align: right;\">\n",
       "      <th></th>\n",
       "      <th>state</th>\n",
       "      <th>diet</th>\n",
       "      <th>flavor_profile</th>\n",
       "      <th>name</th>\n",
       "    </tr>\n",
       "  </thead>\n",
       "  <tbody>\n",
       "    <tr>\n",
       "      <th>0</th>\n",
       "      <td>-1</td>\n",
       "      <td>vegetarian</td>\n",
       "      <td>-1</td>\n",
       "      <td>4</td>\n",
       "    </tr>\n",
       "    <tr>\n",
       "      <th>1</th>\n",
       "      <td>-1</td>\n",
       "      <td>vegetarian</td>\n",
       "      <td>spicy</td>\n",
       "      <td>14</td>\n",
       "    </tr>\n",
       "    <tr>\n",
       "      <th>2</th>\n",
       "      <td>-1</td>\n",
       "      <td>vegetarian</td>\n",
       "      <td>sweet</td>\n",
       "      <td>6</td>\n",
       "    </tr>\n",
       "    <tr>\n",
       "      <th>3</th>\n",
       "      <td>Andhra Pradesh</td>\n",
       "      <td>vegetarian</td>\n",
       "      <td>spicy</td>\n",
       "      <td>2</td>\n",
       "    </tr>\n",
       "    <tr>\n",
       "      <th>4</th>\n",
       "      <td>Andhra Pradesh</td>\n",
       "      <td>vegetarian</td>\n",
       "      <td>sweet</td>\n",
       "      <td>8</td>\n",
       "    </tr>\n",
       "    <tr>\n",
       "      <th>5</th>\n",
       "      <td>Assam</td>\n",
       "      <td>non vegetarian</td>\n",
       "      <td>-1</td>\n",
       "      <td>1</td>\n",
       "    </tr>\n",
       "    <tr>\n",
       "      <th>6</th>\n",
       "      <td>Assam</td>\n",
       "      <td>non vegetarian</td>\n",
       "      <td>spicy</td>\n",
       "      <td>9</td>\n",
       "    </tr>\n",
       "    <tr>\n",
       "      <th>7</th>\n",
       "      <td>Assam</td>\n",
       "      <td>vegetarian</td>\n",
       "      <td>-1</td>\n",
       "      <td>3</td>\n",
       "    </tr>\n",
       "    <tr>\n",
       "      <th>8</th>\n",
       "      <td>Assam</td>\n",
       "      <td>vegetarian</td>\n",
       "      <td>spicy</td>\n",
       "      <td>2</td>\n",
       "    </tr>\n",
       "    <tr>\n",
       "      <th>9</th>\n",
       "      <td>Assam</td>\n",
       "      <td>vegetarian</td>\n",
       "      <td>sweet</td>\n",
       "      <td>6</td>\n",
       "    </tr>\n",
       "    <tr>\n",
       "      <th>10</th>\n",
       "      <td>Bihar</td>\n",
       "      <td>vegetarian</td>\n",
       "      <td>spicy</td>\n",
       "      <td>2</td>\n",
       "    </tr>\n",
       "    <tr>\n",
       "      <th>11</th>\n",
       "      <td>Bihar</td>\n",
       "      <td>vegetarian</td>\n",
       "      <td>sweet</td>\n",
       "      <td>1</td>\n",
       "    </tr>\n",
       "    <tr>\n",
       "      <th>12</th>\n",
       "      <td>Chhattisgarh</td>\n",
       "      <td>vegetarian</td>\n",
       "      <td>spicy</td>\n",
       "      <td>1</td>\n",
       "    </tr>\n",
       "    <tr>\n",
       "      <th>13</th>\n",
       "      <td>Goa</td>\n",
       "      <td>non vegetarian</td>\n",
       "      <td>spicy</td>\n",
       "      <td>1</td>\n",
       "    </tr>\n",
       "    <tr>\n",
       "      <th>14</th>\n",
       "      <td>Goa</td>\n",
       "      <td>vegetarian</td>\n",
       "      <td>sweet</td>\n",
       "      <td>2</td>\n",
       "    </tr>\n",
       "    <tr>\n",
       "      <th>15</th>\n",
       "      <td>Gujarat</td>\n",
       "      <td>vegetarian</td>\n",
       "      <td>-1</td>\n",
       "      <td>3</td>\n",
       "    </tr>\n",
       "    <tr>\n",
       "      <th>16</th>\n",
       "      <td>Gujarat</td>\n",
       "      <td>vegetarian</td>\n",
       "      <td>bitter</td>\n",
       "      <td>2</td>\n",
       "    </tr>\n",
       "    <tr>\n",
       "      <th>17</th>\n",
       "      <td>Gujarat</td>\n",
       "      <td>vegetarian</td>\n",
       "      <td>sour</td>\n",
       "      <td>1</td>\n",
       "    </tr>\n",
       "    <tr>\n",
       "      <th>18</th>\n",
       "      <td>Gujarat</td>\n",
       "      <td>vegetarian</td>\n",
       "      <td>spicy</td>\n",
       "      <td>23</td>\n",
       "    </tr>\n",
       "    <tr>\n",
       "      <th>19</th>\n",
       "      <td>Gujarat</td>\n",
       "      <td>vegetarian</td>\n",
       "      <td>sweet</td>\n",
       "      <td>6</td>\n",
       "    </tr>\n",
       "    <tr>\n",
       "      <th>20</th>\n",
       "      <td>Haryana</td>\n",
       "      <td>vegetarian</td>\n",
       "      <td>spicy</td>\n",
       "      <td>1</td>\n",
       "    </tr>\n",
       "    <tr>\n",
       "      <th>21</th>\n",
       "      <td>Jammu &amp; Kashmir</td>\n",
       "      <td>vegetarian</td>\n",
       "      <td>spicy</td>\n",
       "      <td>1</td>\n",
       "    </tr>\n",
       "    <tr>\n",
       "      <th>22</th>\n",
       "      <td>Jammu &amp; Kashmir</td>\n",
       "      <td>vegetarian</td>\n",
       "      <td>sweet</td>\n",
       "      <td>1</td>\n",
       "    </tr>\n",
       "    <tr>\n",
       "      <th>23</th>\n",
       "      <td>Karnataka</td>\n",
       "      <td>vegetarian</td>\n",
       "      <td>-1</td>\n",
       "      <td>1</td>\n",
       "    </tr>\n",
       "    <tr>\n",
       "      <th>24</th>\n",
       "      <td>Karnataka</td>\n",
       "      <td>vegetarian</td>\n",
       "      <td>spicy</td>\n",
       "      <td>2</td>\n",
       "    </tr>\n",
       "    <tr>\n",
       "      <th>25</th>\n",
       "      <td>Karnataka</td>\n",
       "      <td>vegetarian</td>\n",
       "      <td>sweet</td>\n",
       "      <td>3</td>\n",
       "    </tr>\n",
       "    <tr>\n",
       "      <th>26</th>\n",
       "      <td>Kerala</td>\n",
       "      <td>non vegetarian</td>\n",
       "      <td>spicy</td>\n",
       "      <td>1</td>\n",
       "    </tr>\n",
       "    <tr>\n",
       "      <th>27</th>\n",
       "      <td>Kerala</td>\n",
       "      <td>vegetarian</td>\n",
       "      <td>-1</td>\n",
       "      <td>3</td>\n",
       "    </tr>\n",
       "    <tr>\n",
       "      <th>28</th>\n",
       "      <td>Kerala</td>\n",
       "      <td>vegetarian</td>\n",
       "      <td>spicy</td>\n",
       "      <td>3</td>\n",
       "    </tr>\n",
       "    <tr>\n",
       "      <th>29</th>\n",
       "      <td>Kerala</td>\n",
       "      <td>vegetarian</td>\n",
       "      <td>sweet</td>\n",
       "      <td>1</td>\n",
       "    </tr>\n",
       "    <tr>\n",
       "      <th>30</th>\n",
       "      <td>Madhya Pradesh</td>\n",
       "      <td>vegetarian</td>\n",
       "      <td>spicy</td>\n",
       "      <td>1</td>\n",
       "    </tr>\n",
       "    <tr>\n",
       "      <th>31</th>\n",
       "      <td>Madhya Pradesh</td>\n",
       "      <td>vegetarian</td>\n",
       "      <td>sweet</td>\n",
       "      <td>1</td>\n",
       "    </tr>\n",
       "    <tr>\n",
       "      <th>32</th>\n",
       "      <td>Maharashtra</td>\n",
       "      <td>non vegetarian</td>\n",
       "      <td>spicy</td>\n",
       "      <td>2</td>\n",
       "    </tr>\n",
       "    <tr>\n",
       "      <th>33</th>\n",
       "      <td>Maharashtra</td>\n",
       "      <td>vegetarian</td>\n",
       "      <td>-1</td>\n",
       "      <td>4</td>\n",
       "    </tr>\n",
       "    <tr>\n",
       "      <th>34</th>\n",
       "      <td>Maharashtra</td>\n",
       "      <td>vegetarian</td>\n",
       "      <td>spicy</td>\n",
       "      <td>12</td>\n",
       "    </tr>\n",
       "    <tr>\n",
       "      <th>35</th>\n",
       "      <td>Maharashtra</td>\n",
       "      <td>vegetarian</td>\n",
       "      <td>sweet</td>\n",
       "      <td>12</td>\n",
       "    </tr>\n",
       "    <tr>\n",
       "      <th>36</th>\n",
       "      <td>Manipur</td>\n",
       "      <td>non vegetarian</td>\n",
       "      <td>-1</td>\n",
       "      <td>1</td>\n",
       "    </tr>\n",
       "    <tr>\n",
       "      <th>37</th>\n",
       "      <td>Manipur</td>\n",
       "      <td>vegetarian</td>\n",
       "      <td>sweet</td>\n",
       "      <td>1</td>\n",
       "    </tr>\n",
       "    <tr>\n",
       "      <th>38</th>\n",
       "      <td>NCT of Delhi</td>\n",
       "      <td>non vegetarian</td>\n",
       "      <td>spicy</td>\n",
       "      <td>1</td>\n",
       "    </tr>\n",
       "    <tr>\n",
       "      <th>39</th>\n",
       "      <td>Nagaland</td>\n",
       "      <td>non vegetarian</td>\n",
       "      <td>spicy</td>\n",
       "      <td>1</td>\n",
       "    </tr>\n",
       "    <tr>\n",
       "      <th>40</th>\n",
       "      <td>Odisha</td>\n",
       "      <td>vegetarian</td>\n",
       "      <td>-1</td>\n",
       "      <td>1</td>\n",
       "    </tr>\n",
       "    <tr>\n",
       "      <th>41</th>\n",
       "      <td>Odisha</td>\n",
       "      <td>vegetarian</td>\n",
       "      <td>sweet</td>\n",
       "      <td>6</td>\n",
       "    </tr>\n",
       "    <tr>\n",
       "      <th>42</th>\n",
       "      <td>Punjab</td>\n",
       "      <td>non vegetarian</td>\n",
       "      <td>spicy</td>\n",
       "      <td>4</td>\n",
       "    </tr>\n",
       "    <tr>\n",
       "      <th>43</th>\n",
       "      <td>Punjab</td>\n",
       "      <td>vegetarian</td>\n",
       "      <td>-1</td>\n",
       "      <td>2</td>\n",
       "    </tr>\n",
       "    <tr>\n",
       "      <th>44</th>\n",
       "      <td>Punjab</td>\n",
       "      <td>vegetarian</td>\n",
       "      <td>bitter</td>\n",
       "      <td>2</td>\n",
       "    </tr>\n",
       "    <tr>\n",
       "      <th>45</th>\n",
       "      <td>Punjab</td>\n",
       "      <td>vegetarian</td>\n",
       "      <td>spicy</td>\n",
       "      <td>21</td>\n",
       "    </tr>\n",
       "    <tr>\n",
       "      <th>46</th>\n",
       "      <td>Punjab</td>\n",
       "      <td>vegetarian</td>\n",
       "      <td>sweet</td>\n",
       "      <td>3</td>\n",
       "    </tr>\n",
       "    <tr>\n",
       "      <th>47</th>\n",
       "      <td>Rajasthan</td>\n",
       "      <td>vegetarian</td>\n",
       "      <td>spicy</td>\n",
       "      <td>3</td>\n",
       "    </tr>\n",
       "    <tr>\n",
       "      <th>48</th>\n",
       "      <td>Rajasthan</td>\n",
       "      <td>vegetarian</td>\n",
       "      <td>sweet</td>\n",
       "      <td>3</td>\n",
       "    </tr>\n",
       "    <tr>\n",
       "      <th>49</th>\n",
       "      <td>Tamil Nadu</td>\n",
       "      <td>non vegetarian</td>\n",
       "      <td>spicy</td>\n",
       "      <td>1</td>\n",
       "    </tr>\n",
       "  </tbody>\n",
       "</table>\n",
       "</div>"
      ],
      "text/plain": [
       "              state            diet flavor_profile  name\n",
       "0                -1      vegetarian             -1     4\n",
       "1                -1      vegetarian          spicy    14\n",
       "2                -1      vegetarian          sweet     6\n",
       "3    Andhra Pradesh      vegetarian          spicy     2\n",
       "4    Andhra Pradesh      vegetarian          sweet     8\n",
       "5             Assam  non vegetarian             -1     1\n",
       "6             Assam  non vegetarian          spicy     9\n",
       "7             Assam      vegetarian             -1     3\n",
       "8             Assam      vegetarian          spicy     2\n",
       "9             Assam      vegetarian          sweet     6\n",
       "10            Bihar      vegetarian          spicy     2\n",
       "11            Bihar      vegetarian          sweet     1\n",
       "12     Chhattisgarh      vegetarian          spicy     1\n",
       "13              Goa  non vegetarian          spicy     1\n",
       "14              Goa      vegetarian          sweet     2\n",
       "15          Gujarat      vegetarian             -1     3\n",
       "16          Gujarat      vegetarian         bitter     2\n",
       "17          Gujarat      vegetarian           sour     1\n",
       "18          Gujarat      vegetarian          spicy    23\n",
       "19          Gujarat      vegetarian          sweet     6\n",
       "20          Haryana      vegetarian          spicy     1\n",
       "21  Jammu & Kashmir      vegetarian          spicy     1\n",
       "22  Jammu & Kashmir      vegetarian          sweet     1\n",
       "23        Karnataka      vegetarian             -1     1\n",
       "24        Karnataka      vegetarian          spicy     2\n",
       "25        Karnataka      vegetarian          sweet     3\n",
       "26           Kerala  non vegetarian          spicy     1\n",
       "27           Kerala      vegetarian             -1     3\n",
       "28           Kerala      vegetarian          spicy     3\n",
       "29           Kerala      vegetarian          sweet     1\n",
       "30   Madhya Pradesh      vegetarian          spicy     1\n",
       "31   Madhya Pradesh      vegetarian          sweet     1\n",
       "32      Maharashtra  non vegetarian          spicy     2\n",
       "33      Maharashtra      vegetarian             -1     4\n",
       "34      Maharashtra      vegetarian          spicy    12\n",
       "35      Maharashtra      vegetarian          sweet    12\n",
       "36          Manipur  non vegetarian             -1     1\n",
       "37          Manipur      vegetarian          sweet     1\n",
       "38     NCT of Delhi  non vegetarian          spicy     1\n",
       "39         Nagaland  non vegetarian          spicy     1\n",
       "40           Odisha      vegetarian             -1     1\n",
       "41           Odisha      vegetarian          sweet     6\n",
       "42           Punjab  non vegetarian          spicy     4\n",
       "43           Punjab      vegetarian             -1     2\n",
       "44           Punjab      vegetarian         bitter     2\n",
       "45           Punjab      vegetarian          spicy    21\n",
       "46           Punjab      vegetarian          sweet     3\n",
       "47        Rajasthan      vegetarian          spicy     3\n",
       "48        Rajasthan      vegetarian          sweet     3\n",
       "49       Tamil Nadu  non vegetarian          spicy     1"
      ]
     },
     "execution_count": 35,
     "metadata": {},
     "output_type": "execute_result"
    }
   ],
   "source": [
    "menu_card = indianfood.groupby(['state','diet','flavor_profile'] , as_index= False)['name'].count()\n",
    "menu_card.head(50)"
   ]
  },
  {
   "cell_type": "code",
   "execution_count": null,
   "metadata": {},
   "outputs": [],
   "source": []
  }
 ],
 "metadata": {
  "kernelspec": {
   "display_name": "Python 3",
   "language": "python",
   "name": "python3"
  },
  "language_info": {
   "codemirror_mode": {
    "name": "ipython",
    "version": 3
   },
   "file_extension": ".py",
   "mimetype": "text/x-python",
   "name": "python",
   "nbconvert_exporter": "python",
   "pygments_lexer": "ipython3",
   "version": "3.8.3"
  }
 },
 "nbformat": 4,
 "nbformat_minor": 4
}
